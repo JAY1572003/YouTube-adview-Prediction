{
 "cells": [
  {
   "cell_type": "code",
   "execution_count": 16,
   "id": "8ea38742-cb84-4eb4-bf62-e7c6693c6cb0",
   "metadata": {},
   "outputs": [],
   "source": [
    "import numpy as np\n",
    "import pandas as pd\n",
    "import matplotlib.cm as cm\n",
    "import matplotlib.pyplot as plt"
   ]
  },
  {
   "cell_type": "code",
   "execution_count": 17,
   "id": "7ffb734d-3c2c-47fe-b978-1a235ec609b7",
   "metadata": {},
   "outputs": [],
   "source": [
    "data_train = pd.read_csv('train.csv')"
   ]
  },
  {
   "cell_type": "code",
   "execution_count": 18,
   "id": "0b5c7e0a-a753-4eed-9ac0-c2732784a706",
   "metadata": {},
   "outputs": [
    {
     "data": {
      "text/html": [
       "<div>\n",
       "<style scoped>\n",
       "    .dataframe tbody tr th:only-of-type {\n",
       "        vertical-align: middle;\n",
       "    }\n",
       "\n",
       "    .dataframe tbody tr th {\n",
       "        vertical-align: top;\n",
       "    }\n",
       "\n",
       "    .dataframe thead th {\n",
       "        text-align: right;\n",
       "    }\n",
       "</style>\n",
       "<table border=\"1\" class=\"dataframe\">\n",
       "  <thead>\n",
       "    <tr style=\"text-align: right;\">\n",
       "      <th></th>\n",
       "      <th>vidid</th>\n",
       "      <th>adview</th>\n",
       "      <th>views</th>\n",
       "      <th>likes</th>\n",
       "      <th>dislikes</th>\n",
       "      <th>comment</th>\n",
       "      <th>published</th>\n",
       "      <th>duration</th>\n",
       "      <th>category</th>\n",
       "    </tr>\n",
       "  </thead>\n",
       "  <tbody>\n",
       "    <tr>\n",
       "      <th>0</th>\n",
       "      <td>VID_18655</td>\n",
       "      <td>40</td>\n",
       "      <td>1031602</td>\n",
       "      <td>8523</td>\n",
       "      <td>363</td>\n",
       "      <td>1095</td>\n",
       "      <td>2016-09-14</td>\n",
       "      <td>PT7M37S</td>\n",
       "      <td>F</td>\n",
       "    </tr>\n",
       "    <tr>\n",
       "      <th>1</th>\n",
       "      <td>VID_14135</td>\n",
       "      <td>2</td>\n",
       "      <td>1707</td>\n",
       "      <td>56</td>\n",
       "      <td>2</td>\n",
       "      <td>6</td>\n",
       "      <td>2016-10-01</td>\n",
       "      <td>PT9M30S</td>\n",
       "      <td>D</td>\n",
       "    </tr>\n",
       "    <tr>\n",
       "      <th>2</th>\n",
       "      <td>VID_2187</td>\n",
       "      <td>1</td>\n",
       "      <td>2023</td>\n",
       "      <td>25</td>\n",
       "      <td>0</td>\n",
       "      <td>2</td>\n",
       "      <td>2016-07-02</td>\n",
       "      <td>PT2M16S</td>\n",
       "      <td>C</td>\n",
       "    </tr>\n",
       "    <tr>\n",
       "      <th>3</th>\n",
       "      <td>VID_23096</td>\n",
       "      <td>6</td>\n",
       "      <td>620860</td>\n",
       "      <td>777</td>\n",
       "      <td>161</td>\n",
       "      <td>153</td>\n",
       "      <td>2016-07-27</td>\n",
       "      <td>PT4M22S</td>\n",
       "      <td>H</td>\n",
       "    </tr>\n",
       "    <tr>\n",
       "      <th>4</th>\n",
       "      <td>VID_10175</td>\n",
       "      <td>1</td>\n",
       "      <td>666</td>\n",
       "      <td>1</td>\n",
       "      <td>0</td>\n",
       "      <td>0</td>\n",
       "      <td>2016-06-29</td>\n",
       "      <td>PT31S</td>\n",
       "      <td>D</td>\n",
       "    </tr>\n",
       "  </tbody>\n",
       "</table>\n",
       "</div>"
      ],
      "text/plain": [
       "       vidid  adview    views likes dislikes comment   published duration  \\\n",
       "0  VID_18655      40  1031602  8523      363    1095  2016-09-14  PT7M37S   \n",
       "1  VID_14135       2     1707    56        2       6  2016-10-01  PT9M30S   \n",
       "2   VID_2187       1     2023    25        0       2  2016-07-02  PT2M16S   \n",
       "3  VID_23096       6   620860   777      161     153  2016-07-27  PT4M22S   \n",
       "4  VID_10175       1      666     1        0       0  2016-06-29    PT31S   \n",
       "\n",
       "  category  \n",
       "0        F  \n",
       "1        D  \n",
       "2        C  \n",
       "3        H  \n",
       "4        D  "
      ]
     },
     "execution_count": 18,
     "metadata": {},
     "output_type": "execute_result"
    }
   ],
   "source": [
    "data_train.head()"
   ]
  },
  {
   "cell_type": "code",
   "execution_count": 28,
   "id": "213c1b54-db72-4c2a-b5f9-473ef26ca6ed",
   "metadata": {},
   "outputs": [
    {
     "data": {
      "text/plain": [
       "(14998, 9)"
      ]
     },
     "execution_count": 28,
     "metadata": {},
     "output_type": "execute_result"
    }
   ],
   "source": [
    "data_train.shape"
   ]
  },
  {
   "cell_type": "markdown",
   "id": "5c7db712-393d-4121-b018-84d6e670a46f",
   "metadata": {},
   "source": [
    "* #### **assigning each category a number**"
   ]
  },
  {
   "cell_type": "code",
   "execution_count": 29,
   "id": "983da7a2-5b10-4ca2-a4d6-a7e5f473dbce",
   "metadata": {},
   "outputs": [
    {
     "data": {
      "text/html": [
       "<div>\n",
       "<style scoped>\n",
       "    .dataframe tbody tr th:only-of-type {\n",
       "        vertical-align: middle;\n",
       "    }\n",
       "\n",
       "    .dataframe tbody tr th {\n",
       "        vertical-align: top;\n",
       "    }\n",
       "\n",
       "    .dataframe thead th {\n",
       "        text-align: right;\n",
       "    }\n",
       "</style>\n",
       "<table border=\"1\" class=\"dataframe\">\n",
       "  <thead>\n",
       "    <tr style=\"text-align: right;\">\n",
       "      <th></th>\n",
       "      <th>vidid</th>\n",
       "      <th>adview</th>\n",
       "      <th>views</th>\n",
       "      <th>likes</th>\n",
       "      <th>dislikes</th>\n",
       "      <th>comment</th>\n",
       "      <th>published</th>\n",
       "      <th>duration</th>\n",
       "      <th>category</th>\n",
       "    </tr>\n",
       "  </thead>\n",
       "  <tbody>\n",
       "    <tr>\n",
       "      <th>0</th>\n",
       "      <td>VID_18655</td>\n",
       "      <td>40</td>\n",
       "      <td>1031602</td>\n",
       "      <td>8523</td>\n",
       "      <td>363</td>\n",
       "      <td>1095</td>\n",
       "      <td>2016-09-14</td>\n",
       "      <td>PT7M37S</td>\n",
       "      <td>6</td>\n",
       "    </tr>\n",
       "    <tr>\n",
       "      <th>1</th>\n",
       "      <td>VID_14135</td>\n",
       "      <td>2</td>\n",
       "      <td>1707</td>\n",
       "      <td>56</td>\n",
       "      <td>2</td>\n",
       "      <td>6</td>\n",
       "      <td>2016-10-01</td>\n",
       "      <td>PT9M30S</td>\n",
       "      <td>4</td>\n",
       "    </tr>\n",
       "    <tr>\n",
       "      <th>2</th>\n",
       "      <td>VID_2187</td>\n",
       "      <td>1</td>\n",
       "      <td>2023</td>\n",
       "      <td>25</td>\n",
       "      <td>0</td>\n",
       "      <td>2</td>\n",
       "      <td>2016-07-02</td>\n",
       "      <td>PT2M16S</td>\n",
       "      <td>3</td>\n",
       "    </tr>\n",
       "    <tr>\n",
       "      <th>3</th>\n",
       "      <td>VID_23096</td>\n",
       "      <td>6</td>\n",
       "      <td>620860</td>\n",
       "      <td>777</td>\n",
       "      <td>161</td>\n",
       "      <td>153</td>\n",
       "      <td>2016-07-27</td>\n",
       "      <td>PT4M22S</td>\n",
       "      <td>8</td>\n",
       "    </tr>\n",
       "    <tr>\n",
       "      <th>4</th>\n",
       "      <td>VID_10175</td>\n",
       "      <td>1</td>\n",
       "      <td>666</td>\n",
       "      <td>1</td>\n",
       "      <td>0</td>\n",
       "      <td>0</td>\n",
       "      <td>2016-06-29</td>\n",
       "      <td>PT31S</td>\n",
       "      <td>4</td>\n",
       "    </tr>\n",
       "  </tbody>\n",
       "</table>\n",
       "</div>"
      ],
      "text/plain": [
       "       vidid  adview    views likes dislikes comment   published duration  \\\n",
       "0  VID_18655      40  1031602  8523      363    1095  2016-09-14  PT7M37S   \n",
       "1  VID_14135       2     1707    56        2       6  2016-10-01  PT9M30S   \n",
       "2   VID_2187       1     2023    25        0       2  2016-07-02  PT2M16S   \n",
       "3  VID_23096       6   620860   777      161     153  2016-07-27  PT4M22S   \n",
       "4  VID_10175       1      666     1        0       0  2016-06-29    PT31S   \n",
       "\n",
       "   category  \n",
       "0         6  \n",
       "1         4  \n",
       "2         3  \n",
       "3         8  \n",
       "4         4  "
      ]
     },
     "execution_count": 29,
     "metadata": {},
     "output_type": "execute_result"
    }
   ],
   "source": [
    "category={'A': 1,'B':2,'C':3,'D':4,'E':5,'F':6,'G':7,'H':8}\n",
    "data_train[\"category\"]=data_train[\"category\"].map(category)\n",
    "data_train.head()"
   ]
  },
  {
   "cell_type": "markdown",
   "id": "171239c9-d499-437a-875f-6847ac06a8bb",
   "metadata": {},
   "source": [
    "* #### **Clean the data set removing missing values**"
   ]
  },
  {
   "cell_type": "code",
   "execution_count": 30,
   "id": "637027b5-0b39-41d4-aa1c-a360ed9d675a",
   "metadata": {},
   "outputs": [],
   "source": [
    "data_train=data_train[data_train.views!='F']\n",
    "data_train=data_train[data_train.likes!='F']\n",
    "data_train=data_train[data_train.dislikes!='F']\n",
    "data_train=data_train[data_train.comment!='F']"
   ]
  },
  {
   "cell_type": "markdown",
   "id": "6d1fd6c5-467a-4bd3-be78-8d1744a21682",
   "metadata": {},
   "source": [
    "* #### **convert values to integer**"
   ]
  },
  {
   "cell_type": "code",
   "execution_count": 31,
   "id": "d412475f-e20f-442d-80ce-ffb6c5360fd5",
   "metadata": {},
   "outputs": [],
   "source": [
    "data_train[\"views\"] = pd.to_numeric(data_train[\"views\"])\n",
    "data_train[\"comment\"] = pd.to_numeric(data_train[\"comment\"])\n",
    "data_train[\"likes\"] = pd.to_numeric(data_train[\"likes\"])\n",
    "data_train[\"dislikes\"] = pd.to_numeric(data_train[\"dislikes\"])\n",
    "data_train[\"adview\"]=pd.to_numeric(data_train[\"adview\"])\n",
    "column_vidid=data_train['vidid']"
   ]
  },
  {
   "cell_type": "markdown",
   "id": "4d7a17c7-2808-47a2-aacb-6414fd4ec82c",
   "metadata": {},
   "source": [
    "* #### Need **LabelEncoder** for encoding for vidid, duration, published"
   ]
  },
  {
   "cell_type": "code",
   "execution_count": 32,
   "id": "fece2bd9-cbf5-48b5-9ee6-f7a91524d655",
   "metadata": {},
   "outputs": [
    {
     "data": {
      "text/html": [
       "<div>\n",
       "<style scoped>\n",
       "    .dataframe tbody tr th:only-of-type {\n",
       "        vertical-align: middle;\n",
       "    }\n",
       "\n",
       "    .dataframe tbody tr th {\n",
       "        vertical-align: top;\n",
       "    }\n",
       "\n",
       "    .dataframe thead th {\n",
       "        text-align: right;\n",
       "    }\n",
       "</style>\n",
       "<table border=\"1\" class=\"dataframe\">\n",
       "  <thead>\n",
       "    <tr style=\"text-align: right;\">\n",
       "      <th></th>\n",
       "      <th>vidid</th>\n",
       "      <th>adview</th>\n",
       "      <th>views</th>\n",
       "      <th>likes</th>\n",
       "      <th>dislikes</th>\n",
       "      <th>comment</th>\n",
       "      <th>published</th>\n",
       "      <th>duration</th>\n",
       "      <th>category</th>\n",
       "    </tr>\n",
       "  </thead>\n",
       "  <tbody>\n",
       "    <tr>\n",
       "      <th>0</th>\n",
       "      <td>5912</td>\n",
       "      <td>40</td>\n",
       "      <td>1031602</td>\n",
       "      <td>8523</td>\n",
       "      <td>363</td>\n",
       "      <td>1095</td>\n",
       "      <td>2168</td>\n",
       "      <td>2925</td>\n",
       "      <td>6</td>\n",
       "    </tr>\n",
       "    <tr>\n",
       "      <th>1</th>\n",
       "      <td>2741</td>\n",
       "      <td>2</td>\n",
       "      <td>1707</td>\n",
       "      <td>56</td>\n",
       "      <td>2</td>\n",
       "      <td>6</td>\n",
       "      <td>2185</td>\n",
       "      <td>3040</td>\n",
       "      <td>4</td>\n",
       "    </tr>\n",
       "    <tr>\n",
       "      <th>2</th>\n",
       "      <td>8138</td>\n",
       "      <td>1</td>\n",
       "      <td>2023</td>\n",
       "      <td>25</td>\n",
       "      <td>0</td>\n",
       "      <td>2</td>\n",
       "      <td>2094</td>\n",
       "      <td>1863</td>\n",
       "      <td>3</td>\n",
       "    </tr>\n",
       "    <tr>\n",
       "      <th>3</th>\n",
       "      <td>9004</td>\n",
       "      <td>6</td>\n",
       "      <td>620860</td>\n",
       "      <td>777</td>\n",
       "      <td>161</td>\n",
       "      <td>153</td>\n",
       "      <td>2119</td>\n",
       "      <td>2546</td>\n",
       "      <td>8</td>\n",
       "    </tr>\n",
       "    <tr>\n",
       "      <th>4</th>\n",
       "      <td>122</td>\n",
       "      <td>1</td>\n",
       "      <td>666</td>\n",
       "      <td>1</td>\n",
       "      <td>0</td>\n",
       "      <td>0</td>\n",
       "      <td>2091</td>\n",
       "      <td>1963</td>\n",
       "      <td>4</td>\n",
       "    </tr>\n",
       "  </tbody>\n",
       "</table>\n",
       "</div>"
      ],
      "text/plain": [
       "   vidid  adview    views  likes  dislikes  comment  published  duration  \\\n",
       "0   5912      40  1031602   8523       363     1095       2168      2925   \n",
       "1   2741       2     1707     56         2        6       2185      3040   \n",
       "2   8138       1     2023     25         0        2       2094      1863   \n",
       "3   9004       6   620860    777       161      153       2119      2546   \n",
       "4    122       1      666      1         0        0       2091      1963   \n",
       "\n",
       "   category  \n",
       "0         6  \n",
       "1         4  \n",
       "2         3  \n",
       "3         8  \n",
       "4         4  "
      ]
     },
     "execution_count": 32,
     "metadata": {},
     "output_type": "execute_result"
    }
   ],
   "source": [
    "from sklearn.preprocessing import LabelEncoder\n",
    "data_train['duration']=LabelEncoder().fit_transform(data_train['duration'])\n",
    "data_train['vidid']=LabelEncoder().fit_transform(data_train['vidid'])\n",
    "data_train['published']=LabelEncoder().fit_transform(data_train['published'])\n",
    "data_train.head()"
   ]
  },
  {
   "cell_type": "markdown",
   "id": "b2201039-db62-4b79-9344-1214f240a1c0",
   "metadata": {},
   "source": [
    "* #### **convert Duration into Time_in_sec**"
   ]
  },
  {
   "cell_type": "code",
   "execution_count": 35,
   "id": "d2c558cf-72ac-401c-b72a-4adf630cdbfa",
   "metadata": {},
   "outputs": [
    {
     "data": {
      "text/html": [
       "<div>\n",
       "<style scoped>\n",
       "    .dataframe tbody tr th:only-of-type {\n",
       "        vertical-align: middle;\n",
       "    }\n",
       "\n",
       "    .dataframe tbody tr th {\n",
       "        vertical-align: top;\n",
       "    }\n",
       "\n",
       "    .dataframe thead th {\n",
       "        text-align: right;\n",
       "    }\n",
       "</style>\n",
       "<table border=\"1\" class=\"dataframe\">\n",
       "  <thead>\n",
       "    <tr style=\"text-align: right;\">\n",
       "      <th></th>\n",
       "      <th>vidid</th>\n",
       "      <th>adview</th>\n",
       "      <th>views</th>\n",
       "      <th>likes</th>\n",
       "      <th>dislikes</th>\n",
       "      <th>comment</th>\n",
       "      <th>published</th>\n",
       "      <th>duration</th>\n",
       "      <th>category</th>\n",
       "    </tr>\n",
       "  </thead>\n",
       "  <tbody>\n",
       "    <tr>\n",
       "      <th>0</th>\n",
       "      <td>5912</td>\n",
       "      <td>40</td>\n",
       "      <td>1031602</td>\n",
       "      <td>8523</td>\n",
       "      <td>363</td>\n",
       "      <td>1095</td>\n",
       "      <td>2168</td>\n",
       "      <td>457</td>\n",
       "      <td>6</td>\n",
       "    </tr>\n",
       "    <tr>\n",
       "      <th>1</th>\n",
       "      <td>2741</td>\n",
       "      <td>2</td>\n",
       "      <td>1707</td>\n",
       "      <td>56</td>\n",
       "      <td>2</td>\n",
       "      <td>6</td>\n",
       "      <td>2185</td>\n",
       "      <td>570</td>\n",
       "      <td>4</td>\n",
       "    </tr>\n",
       "    <tr>\n",
       "      <th>2</th>\n",
       "      <td>8138</td>\n",
       "      <td>1</td>\n",
       "      <td>2023</td>\n",
       "      <td>25</td>\n",
       "      <td>0</td>\n",
       "      <td>2</td>\n",
       "      <td>2094</td>\n",
       "      <td>136</td>\n",
       "      <td>3</td>\n",
       "    </tr>\n",
       "    <tr>\n",
       "      <th>3</th>\n",
       "      <td>9004</td>\n",
       "      <td>6</td>\n",
       "      <td>620860</td>\n",
       "      <td>777</td>\n",
       "      <td>161</td>\n",
       "      <td>153</td>\n",
       "      <td>2119</td>\n",
       "      <td>262</td>\n",
       "      <td>8</td>\n",
       "    </tr>\n",
       "    <tr>\n",
       "      <th>4</th>\n",
       "      <td>122</td>\n",
       "      <td>1</td>\n",
       "      <td>666</td>\n",
       "      <td>1</td>\n",
       "      <td>0</td>\n",
       "      <td>0</td>\n",
       "      <td>2091</td>\n",
       "      <td>31</td>\n",
       "      <td>4</td>\n",
       "    </tr>\n",
       "  </tbody>\n",
       "</table>\n",
       "</div>"
      ],
      "text/plain": [
       "   vidid  adview    views  likes  dislikes  comment  published  duration  \\\n",
       "0   5912      40  1031602   8523       363     1095       2168       457   \n",
       "1   2741       2     1707     56         2        6       2185       570   \n",
       "2   8138       1     2023     25         0        2       2094       136   \n",
       "3   9004       6   620860    777       161      153       2119       262   \n",
       "4    122       1      666      1         0        0       2091        31   \n",
       "\n",
       "   category  \n",
       "0         6  \n",
       "1         4  \n",
       "2         3  \n",
       "3         8  \n",
       "4         4  "
      ]
     },
     "execution_count": 35,
     "metadata": {},
     "output_type": "execute_result"
    }
   ],
   "source": [
    "import datetime\n",
    "import time\n",
    "def checki(x):\n",
    "  y = x[2:]\n",
    "  h = ''\n",
    "  m = ''\n",
    "  s = ''\n",
    "  mm = ''\n",
    "  P = ['H','M','S']\n",
    "  for i in y:\n",
    "    if i not in P:\n",
    "      mm+=i\n",
    "    else:\n",
    "      if(i==\"H\"):\n",
    "        h = mm\n",
    "        mm = ''\n",
    "      elif(i == \"M\"):\n",
    "        m = mm\n",
    "        mm = ''\n",
    "      else:\n",
    "        s = mm\n",
    "        mm = ''\n",
    "  if(h==''):\n",
    "    h = '00'\n",
    "  if(m == ''):\n",
    "    m = '00'\n",
    "  if(s==''):\n",
    "    s='00'\n",
    "  bp = h+':'+m+':'+s\n",
    "  return bp\n",
    "\n",
    "train=pd.read_csv('train.csv')\n",
    "mp = pd.read_csv('train.csv')[\"duration\"]\n",
    "time = mp.apply(checki)\n",
    "\n",
    "def func_sec(time_string):\n",
    "  h, m, s = time_string.split(':')\n",
    "  return int(h) * 3600 + int(m) * 60 + int(s)\n",
    "\n",
    "time1=time.apply(func_sec)\n",
    "\n",
    "data_train[\"duration\"]=time1\n",
    "data_train.head()"
   ]
  },
  {
   "cell_type": "markdown",
   "id": "72d7af57-d97e-4323-bd3e-c0036e26ec42",
   "metadata": {},
   "source": [
    "* #### **visualization**"
   ]
  },
  {
   "cell_type": "code",
   "execution_count": 36,
   "id": "1286e55c-8671-436f-bceb-d006ad06c2c1",
   "metadata": {},
   "outputs": [
    {
     "data": {
      "image/png": "[encoded data removed]",
      "text/plain": [
       "<Figure size 640x480 with 1 Axes>"
      ]
     },
     "metadata": {},
     "output_type": "display_data"
    }
   ],
   "source": [
    "plt.hist(data_train[\"category\"])\n",
    "plt.show()"
   ]
  },
  {
   "cell_type": "code",
   "execution_count": 37,
   "id": "33575c4c-7552-48ed-a887-72c40fe47a70",
   "metadata": {},
   "outputs": [
    {
     "data": {
      "image/png": "[encoded data removed]",
      "text/plain": [
       "<Figure size 640x480 with 1 Axes>"
      ]
     },
     "metadata": {},
     "output_type": "display_data"
    }
   ],
   "source": [
    "plt.plot(data_train[\"adview\"])\n",
    "plt.show()"
   ]
  },
  {
   "cell_type": "code",
   "execution_count": 38,
   "id": "061eac50-25eb-4716-83cf-b26a700328d8",
   "metadata": {},
   "outputs": [],
   "source": [
    "data_train = data_train[data_train[\"adview\"] <2000000]"
   ]
  },
  {
   "cell_type": "markdown",
   "id": "84abc7a1-7164-488b-a5e4-5fcbc33850f6",
   "metadata": {},
   "source": [
    "* #### **Heatmap**"
   ]
  },
  {
   "cell_type": "code",
   "execution_count": 40,
   "id": "fce84725-19a1-48bb-9e8d-f7d0cc5ab9df",
   "metadata": {},
   "outputs": [
    {
     "data": {
      "image/png": "[encoded data removed]",
      "text/plain": [
       "<Figure size 1000x800 with 2 Axes>"
      ]
     },
     "metadata": {},
     "output_type": "display_data"
    }
   ],
   "source": [
    "import seaborn as sns\n",
    "f, ax = plt.subplots(figsize=(10, 8))\n",
    "corr = data_train.corr()\n",
    "sns.heatmap(corr, mask=np.zeros_like(corr, dtype=np), cmap=sns.diverging_palette(220, 10, as_cmap=True),\n",
    "square=True, ax=ax,annot=True)\n",
    "plt.show()"
   ]
  },
  {
   "cell_type": "markdown",
   "id": "e280b86f-9484-4bdb-8540-f82ec261cd36",
   "metadata": {},
   "source": [
    "* #### **Split the Data**"
   ]
  },
  {
   "cell_type": "code",
   "execution_count": 41,
   "id": "2fce9a7c-e70c-465d-bcf7-031624ef6c40",
   "metadata": {},
   "outputs": [
    {
     "data": {
      "text/html": [
       "<div>\n",
       "<style scoped>\n",
       "    .dataframe tbody tr th:only-of-type {\n",
       "        vertical-align: middle;\n",
       "    }\n",
       "\n",
       "    .dataframe tbody tr th {\n",
       "        vertical-align: top;\n",
       "    }\n",
       "\n",
       "    .dataframe thead th {\n",
       "        text-align: right;\n",
       "    }\n",
       "</style>\n",
       "<table border=\"1\" class=\"dataframe\">\n",
       "  <thead>\n",
       "    <tr style=\"text-align: right;\">\n",
       "      <th></th>\n",
       "      <th>views</th>\n",
       "      <th>likes</th>\n",
       "      <th>dislikes</th>\n",
       "      <th>comment</th>\n",
       "      <th>published</th>\n",
       "      <th>duration</th>\n",
       "      <th>category</th>\n",
       "    </tr>\n",
       "  </thead>\n",
       "  <tbody>\n",
       "    <tr>\n",
       "      <th>0</th>\n",
       "      <td>1031602</td>\n",
       "      <td>8523</td>\n",
       "      <td>363</td>\n",
       "      <td>1095</td>\n",
       "      <td>2168</td>\n",
       "      <td>457</td>\n",
       "      <td>6</td>\n",
       "    </tr>\n",
       "    <tr>\n",
       "      <th>1</th>\n",
       "      <td>1707</td>\n",
       "      <td>56</td>\n",
       "      <td>2</td>\n",
       "      <td>6</td>\n",
       "      <td>2185</td>\n",
       "      <td>570</td>\n",
       "      <td>4</td>\n",
       "    </tr>\n",
       "    <tr>\n",
       "      <th>2</th>\n",
       "      <td>2023</td>\n",
       "      <td>25</td>\n",
       "      <td>0</td>\n",
       "      <td>2</td>\n",
       "      <td>2094</td>\n",
       "      <td>136</td>\n",
       "      <td>3</td>\n",
       "    </tr>\n",
       "    <tr>\n",
       "      <th>3</th>\n",
       "      <td>620860</td>\n",
       "      <td>777</td>\n",
       "      <td>161</td>\n",
       "      <td>153</td>\n",
       "      <td>2119</td>\n",
       "      <td>262</td>\n",
       "      <td>8</td>\n",
       "    </tr>\n",
       "    <tr>\n",
       "      <th>4</th>\n",
       "      <td>666</td>\n",
       "      <td>1</td>\n",
       "      <td>0</td>\n",
       "      <td>0</td>\n",
       "      <td>2091</td>\n",
       "      <td>31</td>\n",
       "      <td>4</td>\n",
       "    </tr>\n",
       "  </tbody>\n",
       "</table>\n",
       "</div>"
      ],
      "text/plain": [
       "     views  likes  dislikes  comment  published  duration  category\n",
       "0  1031602   8523       363     1095       2168       457         6\n",
       "1     1707     56         2        6       2185       570         4\n",
       "2     2023     25         0        2       2094       136         3\n",
       "3   620860    777       161      153       2119       262         8\n",
       "4      666      1         0        0       2091        31         4"
      ]
     },
     "execution_count": 41,
     "metadata": {},
     "output_type": "execute_result"
    }
   ],
   "source": [
    "Y_train = pd.DataFrame(data = data_train.iloc[:, 1].values, columns = ['target'])\n",
    "data_train=data_train.drop([\"adview\"],axis=1)\n",
    "data_train=data_train.drop([\"vidid\"],axis=1)\n",
    "data_train.head()"
   ]
  },
  {
   "cell_type": "code",
   "execution_count": 42,
   "id": "5cab9d2d-690c-4ca2-b20c-d33ccd63b975",
   "metadata": {},
   "outputs": [],
   "source": [
    "from sklearn.model_selection import train_test_split\n",
    "X_train, X_test, y_train, y_test = train_test_split(data_train, Y_train, test_size=0.2, random_state=42)"
   ]
  },
  {
   "cell_type": "code",
   "execution_count": 43,
   "id": "30b5ee69-f8b2-46a4-9c9b-cbadc1f21934",
   "metadata": {},
   "outputs": [
    {
     "data": {
      "text/plain": [
       "(11708, 7)"
      ]
     },
     "execution_count": 43,
     "metadata": {},
     "output_type": "execute_result"
    }
   ],
   "source": [
    "X_train.shape"
   ]
  },
  {
   "cell_type": "markdown",
   "id": "34b86657-e3d9-4454-b2b7-7991b5854789",
   "metadata": {},
   "source": [
    "* #### **Normalize the data**"
   ]
  },
  {
   "cell_type": "code",
   "execution_count": 44,
   "id": "44a3a782-c21e-4c76-8853-57944628bf48",
   "metadata": {},
   "outputs": [],
   "source": [
    "from sklearn.preprocessing import MinMaxScaler\n",
    "scaler = MinMaxScaler()\n",
    "X_train=scaler.fit_transform(X_train)\n",
    "X_test=scaler.fit_transform(X_test)"
   ]
  },
  {
   "cell_type": "code",
   "execution_count": 45,
   "id": "1db09365-e555-4823-9f63-f020bab40139",
   "metadata": {},
   "outputs": [
    {
     "data": {
      "text/plain": [
       "0.1739096800320488"
      ]
     },
     "execution_count": 45,
     "metadata": {},
     "output_type": "execute_result"
    }
   ],
   "source": [
    "X_train.mean()"
   ]
  },
  {
   "cell_type": "markdown",
   "id": "8923ec4a-a104-4ef4-aa8b-8ac91d2556d3",
   "metadata": {},
   "source": [
    "* #### **Evaluation Matrics**"
   ]
  },
  {
   "cell_type": "code",
   "execution_count": 46,
   "id": "fc3180bb-b151-4261-9f87-41b8b37d23d2",
   "metadata": {},
   "outputs": [],
   "source": [
    "from sklearn import metrics\n",
    "def print_error(X_test, y_test, model_name):\n",
    "  prediction = model_name.predict(X_test)\n",
    "  print('Mean Absolute Error:', metrics.mean_absolute_error(y_test, prediction))\n",
    "  print('Mean Squared Error:', metrics.mean_squared_error(y_test, prediction))\n",
    "  print('Root Mean Squared Error:', np.sqrt(metrics.mean_squared_error(y_test, prediction)))"
   ]
  },
  {
   "cell_type": "markdown",
   "id": "509de792-4736-4ed1-9673-716b2fd2d55b",
   "metadata": {},
   "source": [
    "### ***** TRY DIFFERENT MACHINE LEARNING METHODS ***** "
   ]
  },
  {
   "cell_type": "markdown",
   "id": "8db78cda-5b21-408a-811c-c95d4b3276a6",
   "metadata": {},
   "source": [
    "#### 1.Linear Regression"
   ]
  },
  {
   "cell_type": "code",
   "execution_count": 47,
   "id": "2dab5ebe-7d44-495c-a050-87db69db2e45",
   "metadata": {},
   "outputs": [
    {
     "name": "stdout",
     "output_type": "stream",
     "text": [
      "Mean Absolute Error: 3707.3780058245306\n",
      "Mean Squared Error: 835663131.1210337\n",
      "Root Mean Squared Error: 28907.83857573986\n"
     ]
    }
   ],
   "source": [
    "from sklearn import linear_model\n",
    "linear_regression = linear_model.LinearRegression()\n",
    "linear_regression.fit(X_train, y_train)\n",
    "print_error(X_test,y_test, linear_regression)"
   ]
  },
  {
   "cell_type": "markdown",
   "id": "b6c1899b-209b-4470-8386-f2cb539bfc91",
   "metadata": {},
   "source": [
    "#### 2.Support Vector Regressor"
   ]
  },
  {
   "cell_type": "code",
   "execution_count": 50,
   "id": "9fd90780-de78-4ad3-ba68-5b0ea343acd2",
   "metadata": {},
   "outputs": [
    {
     "name": "stdout",
     "output_type": "stream",
     "text": [
      "Mean Absolute Error: 3707.3780058245306\n",
      "Mean Squared Error: 835663131.1210337\n",
      "Root Mean Squared Error: 28907.83857573986\n"
     ]
    }
   ],
   "source": [
    "from sklearn.svm import SVR\n",
    "supportvector_regressor = SVR()\n",
    "supportvector_regressor.fit(X_train,np.ravel(y_train))\n",
    "print_error(X_test,y_test, linear_regression)"
   ]
  },
  {
   "cell_type": "markdown",
   "id": "c3f51493-320b-488f-a292-ef9e7e419635",
   "metadata": {},
   "source": [
    "#### 3.Decision Tree Regressor"
   ]
  },
  {
   "cell_type": "code",
   "execution_count": 51,
   "id": "4889d68e-7919-495c-9964-9e4ce571efc9",
   "metadata": {},
   "outputs": [
    {
     "name": "stdout",
     "output_type": "stream",
     "text": [
      "Mean Absolute Error: 2522.666325136612\n",
      "Mean Squared Error: 870702618.994194\n",
      "Root Mean Squared Error: 29507.670511143268\n"
     ]
    }
   ],
   "source": [
    "from sklearn.tree import DecisionTreeRegressor\n",
    "decision_tree = DecisionTreeRegressor()\n",
    "decision_tree.fit(X_train, y_train)\n",
    "print_error(X_test,y_test, decision_tree)"
   ]
  },
  {
   "cell_type": "markdown",
   "id": "09527420-611b-4efb-a6c5-b4743696f14a",
   "metadata": {},
   "source": [
    "#### 4.Random Forest Regressor"
   ]
  },
  {
   "cell_type": "code",
   "execution_count": 53,
   "id": "3f30205d-9895-464b-a5b2-ec4642cb5c08",
   "metadata": {},
   "outputs": [
    {
     "name": "stdout",
     "output_type": "stream",
     "text": [
      "Mean Absolute Error: 3306.3985444050954\n",
      "Mean Squared Error: 615839633.0227083\n",
      "Root Mean Squared Error: 24816.11639686412\n"
     ]
    }
   ],
   "source": [
    "from sklearn.ensemble import RandomForestRegressor\n",
    "n_estimators = 200\n",
    "max_depth = 25\n",
    "min_samples_split=15\n",
    "min_samples_leaf=2\n",
    "random_forest = RandomForestRegressor(n_estimators = n_estimators, max_depth = max_depth, min_samples_split=min_samples_split)\n",
    "random_forest.fit(X_train,np.ravel(y_train))\n",
    "print_error(X_test,y_test, random_forest)"
   ]
  },
  {
   "cell_type": "markdown",
   "id": "14c6f6fd-6b37-42bd-bd0e-f15810d7b9c1",
   "metadata": {},
   "source": [
    "#### 4.Artificial Neural Network"
   ]
  },
  {
   "cell_type": "code",
   "execution_count": 54,
   "id": "d44fcba3-e213-408e-8aa4-729beaa2d7b4",
   "metadata": {},
   "outputs": [
    {
     "name": "stdout",
     "output_type": "stream",
     "text": [
      "WARNING:tensorflow:From C:\\Users\\JAY MANGUKIYA\\AppData\\Roaming\\Python\\Python311\\site-packages\\keras\\src\\losses.py:2976: The name tf.losses.sparse_softmax_cross_entropy is deprecated. Please use tf.compat.v1.losses.sparse_softmax_cross_entropy instead.\n",
      "\n",
      "WARNING:tensorflow:From C:\\Users\\JAY MANGUKIYA\\AppData\\Roaming\\Python\\Python311\\site-packages\\keras\\src\\backend.py:873: The name tf.get_default_graph is deprecated. Please use tf.compat.v1.get_default_graph instead.\n",
      "\n",
      "Epoch 1/100\n",
      "WARNING:tensorflow:From C:\\Users\\JAY MANGUKIYA\\AppData\\Roaming\\Python\\Python311\\site-packages\\keras\\src\\utils\\tf_utils.py:492: The name tf.ragged.RaggedTensorValue is deprecated. Please use tf.compat.v1.ragged.RaggedTensorValue instead.\n",
      "\n",
      "WARNING:tensorflow:From C:\\Users\\JAY MANGUKIYA\\AppData\\Roaming\\Python\\Python311\\site-packages\\keras\\src\\engine\\base_layer_utils.py:384: The name tf.executing_eagerly_outside_functions is deprecated. Please use tf.compat.v1.executing_eagerly_outside_functions instead.\n",
      "\n",
      "366/366 [==============================] - 2s 1ms/step - loss: 767403328.0000 - mean_squared_error: 767403328.0000\n",
      "Epoch 2/100\n",
      "366/366 [==============================] - 1s 1ms/step - loss: 767392960.0000 - mean_squared_error: 767392960.0000\n",
      "Epoch 3/100\n",
      "366/366 [==============================] - 1s 1ms/step - loss: 767373056.0000 - mean_squared_error: 767373056.0000\n",
      "Epoch 4/100\n",
      "366/366 [==============================] - 1s 1ms/step - loss: 767343040.0000 - mean_squared_error: 767343040.0000\n",
      "Epoch 5/100\n",
      "366/366 [==============================] - 1s 1ms/step - loss: 767296000.0000 - mean_squared_error: 767296000.0000\n",
      "Epoch 6/100\n",
      "366/366 [==============================] - 1s 1ms/step - loss: 767230016.0000 - mean_squared_error: 767230016.0000\n",
      "Epoch 7/100\n",
      "366/366 [==============================] - 1s 1ms/step - loss: 767147648.0000 - mean_squared_error: 767147648.0000\n",
      "Epoch 8/100\n",
      "366/366 [==============================] - 1s 2ms/step - loss: 767046272.0000 - mean_squared_error: 767046272.0000\n",
      "Epoch 9/100\n",
      "366/366 [==============================] - 1s 1ms/step - loss: 766928640.0000 - mean_squared_error: 766928640.0000\n",
      "Epoch 10/100\n",
      "366/366 [==============================] - 1s 2ms/step - loss: 766792128.0000 - mean_squared_error: 766792128.0000\n",
      "Epoch 11/100\n",
      "366/366 [==============================] - 1s 2ms/step - loss: 766640448.0000 - mean_squared_error: 766640448.0000\n",
      "Epoch 12/100\n",
      "366/366 [==============================] - 1s 2ms/step - loss: 766477504.0000 - mean_squared_error: 766477504.0000\n",
      "Epoch 13/100\n",
      "366/366 [==============================] - 0s 1ms/step - loss: 766307712.0000 - mean_squared_error: 766307712.0000\n",
      "Epoch 14/100\n",
      "366/366 [==============================] - 1s 1ms/step - loss: 766136640.0000 - mean_squared_error: 766136640.0000\n",
      "Epoch 15/100\n",
      "366/366 [==============================] - 1s 1ms/step - loss: 765967744.0000 - mean_squared_error: 765967744.0000\n",
      "Epoch 16/100\n",
      "366/366 [==============================] - 0s 1ms/step - loss: 765800640.0000 - mean_squared_error: 765800640.0000\n",
      "Epoch 17/100\n",
      "366/366 [==============================] - 0s 1ms/step - loss: 765639424.0000 - mean_squared_error: 765639424.0000\n",
      "Epoch 18/100\n",
      "366/366 [==============================] - 1s 1ms/step - loss: 765483968.0000 - mean_squared_error: 765483968.0000\n",
      "Epoch 19/100\n",
      "366/366 [==============================] - 0s 1ms/step - loss: 765336192.0000 - mean_squared_error: 765336192.0000\n",
      "Epoch 20/100\n",
      "366/366 [==============================] - 1s 1ms/step - loss: 765190272.0000 - mean_squared_error: 765190272.0000\n",
      "Epoch 21/100\n",
      "366/366 [==============================] - 1s 1ms/step - loss: 765057088.0000 - mean_squared_error: 765057088.0000\n",
      "Epoch 22/100\n",
      "366/366 [==============================] - 1s 1ms/step - loss: 764935104.0000 - mean_squared_error: 764935104.0000\n",
      "Epoch 23/100\n",
      "366/366 [==============================] - 1s 2ms/step - loss: 764817280.0000 - mean_squared_error: 764817280.0000\n",
      "Epoch 24/100\n",
      "366/366 [==============================] - 1s 2ms/step - loss: 764707072.0000 - mean_squared_error: 764707072.0000\n",
      "Epoch 25/100\n",
      "366/366 [==============================] - 1s 2ms/step - loss: 764606720.0000 - mean_squared_error: 764606720.0000\n",
      "Epoch 26/100\n",
      "366/366 [==============================] - 1s 2ms/step - loss: 764514560.0000 - mean_squared_error: 764514560.0000\n",
      "Epoch 27/100\n",
      "366/366 [==============================] - 0s 1ms/step - loss: 764429888.0000 - mean_squared_error: 764429888.0000\n",
      "Epoch 28/100\n",
      "366/366 [==============================] - 0s 1ms/step - loss: 764356096.0000 - mean_squared_error: 764356096.0000\n",
      "Epoch 29/100\n",
      "366/366 [==============================] - 0s 1ms/step - loss: 764290304.0000 - mean_squared_error: 764290304.0000\n",
      "Epoch 30/100\n",
      "366/366 [==============================] - 1s 2ms/step - loss: 764222912.0000 - mean_squared_error: 764222912.0000\n",
      "Epoch 31/100\n",
      "366/366 [==============================] - 1s 2ms/step - loss: 764167872.0000 - mean_squared_error: 764167872.0000\n",
      "Epoch 32/100\n",
      "366/366 [==============================] - 1s 2ms/step - loss: 764116608.0000 - mean_squared_error: 764116608.0000\n",
      "Epoch 33/100\n",
      "366/366 [==============================] - 1s 2ms/step - loss: 764068160.0000 - mean_squared_error: 764068160.0000\n",
      "Epoch 34/100\n",
      "366/366 [==============================] - 1s 2ms/step - loss: 764023104.0000 - mean_squared_error: 764023104.0000\n",
      "Epoch 35/100\n",
      "366/366 [==============================] - 0s 1ms/step - loss: 763982720.0000 - mean_squared_error: 763982720.0000\n",
      "Epoch 36/100\n",
      "366/366 [==============================] - 0s 1ms/step - loss: 763944832.0000 - mean_squared_error: 763944832.0000\n",
      "Epoch 37/100\n",
      "366/366 [==============================] - 1s 2ms/step - loss: 763910080.0000 - mean_squared_error: 763910080.0000\n",
      "Epoch 38/100\n",
      "366/366 [==============================] - 1s 2ms/step - loss: 763879360.0000 - mean_squared_error: 763879360.0000\n",
      "Epoch 39/100\n",
      "366/366 [==============================] - 0s 1ms/step - loss: 763844608.0000 - mean_squared_error: 763844608.0000\n",
      "Epoch 40/100\n",
      "366/366 [==============================] - 0s 1ms/step - loss: 763818496.0000 - mean_squared_error: 763818496.0000\n",
      "Epoch 41/100\n",
      "366/366 [==============================] - 1s 1ms/step - loss: 763797952.0000 - mean_squared_error: 763797952.0000\n",
      "Epoch 42/100\n",
      "366/366 [==============================] - 1s 2ms/step - loss: 763766912.0000 - mean_squared_error: 763766912.0000\n",
      "Epoch 43/100\n",
      "366/366 [==============================] - 1s 1ms/step - loss: 763742976.0000 - mean_squared_error: 763742976.0000\n",
      "Epoch 44/100\n",
      "366/366 [==============================] - 1s 1ms/step - loss: 763723840.0000 - mean_squared_error: 763723840.0000\n",
      "Epoch 45/100\n",
      "366/366 [==============================] - 0s 1ms/step - loss: 763695872.0000 - mean_squared_error: 763695872.0000\n",
      "Epoch 46/100\n",
      "366/366 [==============================] - 1s 2ms/step - loss: 763680704.0000 - mean_squared_error: 763680704.0000\n",
      "Epoch 47/100\n",
      "366/366 [==============================] - 1s 1ms/step - loss: 763656128.0000 - mean_squared_error: 763656128.0000\n",
      "Epoch 48/100\n",
      "366/366 [==============================] - 1s 1ms/step - loss: 763634624.0000 - mean_squared_error: 763634624.0000\n",
      "Epoch 49/100\n",
      "366/366 [==============================] - 0s 1ms/step - loss: 763615808.0000 - mean_squared_error: 763615808.0000\n",
      "Epoch 50/100\n",
      "366/366 [==============================] - 1s 1ms/step - loss: 763593024.0000 - mean_squared_error: 763593024.0000\n",
      "Epoch 51/100\n",
      "366/366 [==============================] - 1s 1ms/step - loss: 763575232.0000 - mean_squared_error: 763575232.0000\n",
      "Epoch 52/100\n",
      "366/366 [==============================] - 1s 1ms/step - loss: 763558272.0000 - mean_squared_error: 763558272.0000\n",
      "Epoch 53/100\n",
      "366/366 [==============================] - 1s 2ms/step - loss: 763534144.0000 - mean_squared_error: 763534144.0000\n",
      "Epoch 54/100\n",
      "366/366 [==============================] - 1s 1ms/step - loss: 763513856.0000 - mean_squared_error: 763513856.0000\n",
      "Epoch 55/100\n",
      "366/366 [==============================] - 1s 1ms/step - loss: 763496576.0000 - mean_squared_error: 763496576.0000\n",
      "Epoch 56/100\n",
      "366/366 [==============================] - 0s 1ms/step - loss: 763475264.0000 - mean_squared_error: 763475264.0000\n",
      "Epoch 57/100\n",
      "366/366 [==============================] - 1s 2ms/step - loss: 763456640.0000 - mean_squared_error: 763456640.0000\n",
      "Epoch 58/100\n",
      "366/366 [==============================] - 1s 2ms/step - loss: 763441344.0000 - mean_squared_error: 763441344.0000\n",
      "Epoch 59/100\n",
      "366/366 [==============================] - 1s 2ms/step - loss: 763418688.0000 - mean_squared_error: 763418688.0000\n",
      "Epoch 60/100\n",
      "366/366 [==============================] - 1s 2ms/step - loss: 763398272.0000 - mean_squared_error: 763398272.0000\n",
      "Epoch 61/100\n",
      "366/366 [==============================] - 1s 2ms/step - loss: 763377408.0000 - mean_squared_error: 763377408.0000\n",
      "Epoch 62/100\n",
      "366/366 [==============================] - 1s 2ms/step - loss: 763363392.0000 - mean_squared_error: 763363392.0000\n",
      "Epoch 63/100\n",
      "366/366 [==============================] - 1s 1ms/step - loss: 763342720.0000 - mean_squared_error: 763342720.0000\n",
      "Epoch 64/100\n",
      "366/366 [==============================] - 0s 1ms/step - loss: 763325696.0000 - mean_squared_error: 763325696.0000\n",
      "Epoch 65/100\n",
      "366/366 [==============================] - 1s 2ms/step - loss: 763305728.0000 - mean_squared_error: 763305728.0000\n",
      "Epoch 66/100\n",
      "366/366 [==============================] - 1s 1ms/step - loss: 763284608.0000 - mean_squared_error: 763284608.0000\n",
      "Epoch 67/100\n",
      "366/366 [==============================] - 1s 2ms/step - loss: 763264384.0000 - mean_squared_error: 763264384.0000\n",
      "Epoch 68/100\n",
      "366/366 [==============================] - 1s 1ms/step - loss: 763246464.0000 - mean_squared_error: 763246464.0000\n",
      "Epoch 69/100\n",
      "366/366 [==============================] - 1s 2ms/step - loss: 763229632.0000 - mean_squared_error: 763229632.0000\n",
      "Epoch 70/100\n",
      "366/366 [==============================] - 1s 2ms/step - loss: 763212480.0000 - mean_squared_error: 763212480.0000\n",
      "Epoch 71/100\n",
      "366/366 [==============================] - 1s 2ms/step - loss: 763190272.0000 - mean_squared_error: 763190272.0000\n",
      "Epoch 72/100\n",
      "366/366 [==============================] - 0s 1ms/step - loss: 763173568.0000 - mean_squared_error: 763173568.0000\n",
      "Epoch 73/100\n",
      "366/366 [==============================] - 1s 1ms/step - loss: 763156992.0000 - mean_squared_error: 763156992.0000\n",
      "Epoch 74/100\n",
      "366/366 [==============================] - 0s 1ms/step - loss: 763135872.0000 - mean_squared_error: 763135872.0000\n",
      "Epoch 75/100\n",
      "366/366 [==============================] - 0s 1ms/step - loss: 763115584.0000 - mean_squared_error: 763115584.0000\n",
      "Epoch 76/100\n",
      "366/366 [==============================] - 1s 2ms/step - loss: 763098432.0000 - mean_squared_error: 763098432.0000\n",
      "Epoch 77/100\n",
      "366/366 [==============================] - 0s 1ms/step - loss: 763080320.0000 - mean_squared_error: 763080320.0000\n",
      "Epoch 78/100\n",
      "366/366 [==============================] - 1s 1ms/step - loss: 763061120.0000 - mean_squared_error: 763061120.0000\n",
      "Epoch 79/100\n",
      "366/366 [==============================] - 0s 1ms/step - loss: 763043776.0000 - mean_squared_error: 763043776.0000\n",
      "Epoch 80/100\n",
      "366/366 [==============================] - 0s 1ms/step - loss: 763024768.0000 - mean_squared_error: 763024768.0000\n",
      "Epoch 81/100\n",
      "366/366 [==============================] - 0s 1ms/step - loss: 763004480.0000 - mean_squared_error: 763004480.0000\n",
      "Epoch 82/100\n",
      "366/366 [==============================] - 1s 1ms/step - loss: 762987520.0000 - mean_squared_error: 762987520.0000\n",
      "Epoch 83/100\n",
      "366/366 [==============================] - 0s 1ms/step - loss: 762970496.0000 - mean_squared_error: 762970496.0000\n",
      "Epoch 84/100\n",
      "366/366 [==============================] - 0s 1ms/step - loss: 762949568.0000 - mean_squared_error: 762949568.0000\n",
      "Epoch 85/100\n",
      "366/366 [==============================] - 0s 1ms/step - loss: 762934976.0000 - mean_squared_error: 762934976.0000\n",
      "Epoch 86/100\n",
      "366/366 [==============================] - 0s 1ms/step - loss: 762913088.0000 - mean_squared_error: 762913088.0000\n",
      "Epoch 87/100\n",
      "366/366 [==============================] - 1s 2ms/step - loss: 762897280.0000 - mean_squared_error: 762897280.0000\n",
      "Epoch 88/100\n",
      "366/366 [==============================] - 1s 1ms/step - loss: 762877888.0000 - mean_squared_error: 762877888.0000\n",
      "Epoch 89/100\n",
      "366/366 [==============================] - 1s 1ms/step - loss: 762861952.0000 - mean_squared_error: 762861952.0000\n",
      "Epoch 90/100\n",
      "366/366 [==============================] - 1s 2ms/step - loss: 762842176.0000 - mean_squared_error: 762842176.0000\n",
      "Epoch 91/100\n",
      "366/366 [==============================] - 1s 2ms/step - loss: 762823808.0000 - mean_squared_error: 762823808.0000\n",
      "Epoch 92/100\n",
      "366/366 [==============================] - 1s 1ms/step - loss: 762802880.0000 - mean_squared_error: 762802880.0000\n",
      "Epoch 93/100\n",
      "366/366 [==============================] - 1s 2ms/step - loss: 762784768.0000 - mean_squared_error: 762784768.0000\n",
      "Epoch 94/100\n",
      "366/366 [==============================] - 1s 1ms/step - loss: 762768128.0000 - mean_squared_error: 762768128.0000\n",
      "Epoch 95/100\n",
      "366/366 [==============================] - 1s 2ms/step - loss: 762749632.0000 - mean_squared_error: 762749632.0000\n",
      "Epoch 96/100\n",
      "366/366 [==============================] - 0s 1ms/step - loss: 762731840.0000 - mean_squared_error: 762731840.0000\n",
      "Epoch 97/100\n",
      "366/366 [==============================] - 1s 2ms/step - loss: 762716800.0000 - mean_squared_error: 762716800.0000\n",
      "Epoch 98/100\n",
      "366/366 [==============================] - 0s 1ms/step - loss: 762694464.0000 - mean_squared_error: 762694464.0000\n",
      "Epoch 99/100\n",
      "366/366 [==============================] - 0s 1ms/step - loss: 762683648.0000 - mean_squared_error: 762683648.0000\n",
      "Epoch 100/100\n",
      "366/366 [==============================] - 0s 1ms/step - loss: 762659456.0000 - mean_squared_error: 762659456.0000\n",
      "Model: \"sequential\"\n",
      "_________________________________________________________________\n",
      " Layer (type)                Output Shape              Param #   \n",
      "=================================================================\n",
      " dense (Dense)               (None, 6)                 48        \n",
      "                                                                 \n",
      " dense_1 (Dense)             (None, 6)                 42        \n",
      "                                                                 \n",
      " dense_2 (Dense)             (None, 1)                 7         \n",
      "                                                                 \n",
      "=================================================================\n",
      "Total params: 97 (388.00 Byte)\n",
      "Trainable params: 97 (388.00 Byte)\n",
      "Non-trainable params: 0 (0.00 Byte)\n",
      "_________________________________________________________________\n",
      "92/92 [==============================] - 0s 842us/step\n",
      "Mean Absolute Error: 3169.0223586069105\n",
      "Mean Squared Error: 828871522.8961918\n",
      "Root Mean Squared Error: 28790.128914198904\n"
     ]
    }
   ],
   "source": [
    "import keras\n",
    "from keras.layers import Dense\n",
    "ann = keras.models.Sequential([\n",
    "                                Dense(6, activation=\"relu\",\n",
    "                                input_shape=X_train.shape[1:]),\n",
    "                                Dense(6,activation=\"relu\"),\n",
    "                                Dense(1)\n",
    "                                ])\n",
    "\n",
    "optimizer=keras.optimizers.Adam()\n",
    "loss=keras.losses.mean_squared_error\n",
    "ann.compile(optimizer=optimizer,loss=loss,metrics=[\"mean_squared_error\"])\n",
    "\n",
    "history=ann.fit(X_train,y_train,epochs=100)\n",
    "\n",
    "ann.summary()\n",
    "\n",
    "print_error(X_test,y_test,ann)"
   ]
  },
  {
   "cell_type": "markdown",
   "id": "7c43d8dd-2d7a-4b33-9ed5-1f78b6738997",
   "metadata": {},
   "source": [
    "* **Saving Decision Tree Regressor Model**"
   ]
  },
  {
   "cell_type": "code",
   "execution_count": 55,
   "id": "5986f648-5a69-4971-a076-f6ec14425c7e",
   "metadata": {},
   "outputs": [
    {
     "data": {
      "text/plain": [
       "['decisiontree_youtubeadview.pkl']"
      ]
     },
     "execution_count": 55,
     "metadata": {},
     "output_type": "execute_result"
    }
   ],
   "source": [
    "import joblib\n",
    "joblib.dump(decision_tree, \"decisiontree_youtubeadview.pkl\")"
   ]
  },
  {
   "cell_type": "markdown",
   "id": "c343f42b-93cf-4234-b029-67c50c107a07",
   "metadata": {},
   "source": [
    "* **Saving Keras Artificial Neural Network model**"
   ]
  },
  {
   "cell_type": "code",
   "execution_count": 56,
   "id": "e4317acc-0c11-4ca0-a2da-a87609180541",
   "metadata": {},
   "outputs": [
    {
     "name": "stderr",
     "output_type": "stream",
     "text": [
      "C:\\Users\\JAY MANGUKIYA\\AppData\\Roaming\\Python\\Python311\\site-packages\\keras\\src\\engine\\training.py:3103: UserWarning: You are saving your model as an HDF5 file via `model.save()`. This file format is considered legacy. We recommend using instead the native Keras format, e.g. `model.save('my_model.keras')`.\n",
      "  saving_api.save_model(\n"
     ]
    }
   ],
   "source": [
    "ann.save(\"ann_youtubeadview.h5\")    "
   ]
  },
  {
   "cell_type": "markdown",
   "id": "336b895e-bc20-4f8a-8e5d-0a8d2fd38d3a",
   "metadata": {},
   "source": [
    "# **Testing**"
   ]
  },
  {
   "cell_type": "code",
   "execution_count": 57,
   "id": "a6e56e7b-7be7-4093-b064-a181e817d771",
   "metadata": {},
   "outputs": [],
   "source": [
    "data_test = pd.read_csv(\"test.csv\")"
   ]
  },
  {
   "cell_type": "code",
   "execution_count": 58,
   "id": "59a9b681-636b-4787-8810-02b65a86b49d",
   "metadata": {},
   "outputs": [
    {
     "data": {
      "text/html": [
       "<div>\n",
       "<style scoped>\n",
       "    .dataframe tbody tr th:only-of-type {\n",
       "        vertical-align: middle;\n",
       "    }\n",
       "\n",
       "    .dataframe tbody tr th {\n",
       "        vertical-align: top;\n",
       "    }\n",
       "\n",
       "    .dataframe thead th {\n",
       "        text-align: right;\n",
       "    }\n",
       "</style>\n",
       "<table border=\"1\" class=\"dataframe\">\n",
       "  <thead>\n",
       "    <tr style=\"text-align: right;\">\n",
       "      <th></th>\n",
       "      <th>vidid</th>\n",
       "      <th>views</th>\n",
       "      <th>likes</th>\n",
       "      <th>dislikes</th>\n",
       "      <th>comment</th>\n",
       "      <th>published</th>\n",
       "      <th>duration</th>\n",
       "      <th>category</th>\n",
       "    </tr>\n",
       "  </thead>\n",
       "  <tbody>\n",
       "    <tr>\n",
       "      <th>0</th>\n",
       "      <td>VID_1054</td>\n",
       "      <td>440238</td>\n",
       "      <td>6153</td>\n",
       "      <td>218</td>\n",
       "      <td>1377</td>\n",
       "      <td>2017-02-18</td>\n",
       "      <td>PT7M29S</td>\n",
       "      <td>B</td>\n",
       "    </tr>\n",
       "    <tr>\n",
       "      <th>1</th>\n",
       "      <td>VID_18629</td>\n",
       "      <td>1040132</td>\n",
       "      <td>8171</td>\n",
       "      <td>340</td>\n",
       "      <td>1047</td>\n",
       "      <td>2016-06-28</td>\n",
       "      <td>PT6M29S</td>\n",
       "      <td>F</td>\n",
       "    </tr>\n",
       "    <tr>\n",
       "      <th>2</th>\n",
       "      <td>VID_13967</td>\n",
       "      <td>28534</td>\n",
       "      <td>31</td>\n",
       "      <td>11</td>\n",
       "      <td>1</td>\n",
       "      <td>2014-03-10</td>\n",
       "      <td>PT37M54S</td>\n",
       "      <td>D</td>\n",
       "    </tr>\n",
       "    <tr>\n",
       "      <th>3</th>\n",
       "      <td>VID_19442</td>\n",
       "      <td>1316715</td>\n",
       "      <td>2284</td>\n",
       "      <td>250</td>\n",
       "      <td>274</td>\n",
       "      <td>2010-06-05</td>\n",
       "      <td>PT9M55S</td>\n",
       "      <td>G</td>\n",
       "    </tr>\n",
       "    <tr>\n",
       "      <th>4</th>\n",
       "      <td>VID_770</td>\n",
       "      <td>1893173</td>\n",
       "      <td>2519</td>\n",
       "      <td>225</td>\n",
       "      <td>116</td>\n",
       "      <td>2016-09-03</td>\n",
       "      <td>PT3M8S</td>\n",
       "      <td>B</td>\n",
       "    </tr>\n",
       "  </tbody>\n",
       "</table>\n",
       "</div>"
      ],
      "text/plain": [
       "       vidid    views likes dislikes comment   published  duration category\n",
       "0   VID_1054   440238  6153      218    1377  2017-02-18   PT7M29S        B\n",
       "1  VID_18629  1040132  8171      340    1047  2016-06-28   PT6M29S        F\n",
       "2  VID_13967    28534    31       11       1  2014-03-10  PT37M54S        D\n",
       "3  VID_19442  1316715  2284      250     274  2010-06-05   PT9M55S        G\n",
       "4    VID_770  1893173  2519      225     116  2016-09-03    PT3M8S        B"
      ]
     },
     "execution_count": 58,
     "metadata": {},
     "output_type": "execute_result"
    }
   ],
   "source": [
    "data_test.head()"
   ]
  },
  {
   "cell_type": "code",
   "execution_count": 59,
   "id": "e80d138d-cec9-4364-a95e-f661dd28cc15",
   "metadata": {},
   "outputs": [],
   "source": [
    "from keras.models import load_model\n",
    "model = load_model(\"ann_youtubeadview.h5\")"
   ]
  },
  {
   "cell_type": "markdown",
   "id": "6c259ebe-b165-42d1-b15e-864d2ae9d79d",
   "metadata": {},
   "source": [
    "* #### **Removing character \"F\" present in data**"
   ]
  },
  {
   "cell_type": "code",
   "execution_count": 61,
   "id": "f602c362-1c11-45a7-b7b0-bb45cd1c942b",
   "metadata": {},
   "outputs": [],
   "source": [
    "data_test=data_test[data_test.views!='F']\n",
    "data_test=data_test[data_test.likes!='F']\n",
    "data_test=data_test[data_test.dislikes!='F']\n",
    "data_test=data_test[data_test.comment!='F']"
   ]
  },
  {
   "cell_type": "code",
   "execution_count": 62,
   "id": "1eafad02-cc0f-4dd4-a91f-9ea44bf4672f",
   "metadata": {},
   "outputs": [
    {
     "data": {
      "text/html": [
       "<div>\n",
       "<style scoped>\n",
       "    .dataframe tbody tr th:only-of-type {\n",
       "        vertical-align: middle;\n",
       "    }\n",
       "\n",
       "    .dataframe tbody tr th {\n",
       "        vertical-align: top;\n",
       "    }\n",
       "\n",
       "    .dataframe thead th {\n",
       "        text-align: right;\n",
       "    }\n",
       "</style>\n",
       "<table border=\"1\" class=\"dataframe\">\n",
       "  <thead>\n",
       "    <tr style=\"text-align: right;\">\n",
       "      <th></th>\n",
       "      <th>vidid</th>\n",
       "      <th>views</th>\n",
       "      <th>likes</th>\n",
       "      <th>dislikes</th>\n",
       "      <th>comment</th>\n",
       "      <th>published</th>\n",
       "      <th>duration</th>\n",
       "      <th>category</th>\n",
       "    </tr>\n",
       "  </thead>\n",
       "  <tbody>\n",
       "    <tr>\n",
       "      <th>0</th>\n",
       "      <td>VID_1054</td>\n",
       "      <td>440238</td>\n",
       "      <td>6153</td>\n",
       "      <td>218</td>\n",
       "      <td>1377</td>\n",
       "      <td>2017-02-18</td>\n",
       "      <td>PT7M29S</td>\n",
       "      <td>B</td>\n",
       "    </tr>\n",
       "    <tr>\n",
       "      <th>1</th>\n",
       "      <td>VID_18629</td>\n",
       "      <td>1040132</td>\n",
       "      <td>8171</td>\n",
       "      <td>340</td>\n",
       "      <td>1047</td>\n",
       "      <td>2016-06-28</td>\n",
       "      <td>PT6M29S</td>\n",
       "      <td>F</td>\n",
       "    </tr>\n",
       "    <tr>\n",
       "      <th>2</th>\n",
       "      <td>VID_13967</td>\n",
       "      <td>28534</td>\n",
       "      <td>31</td>\n",
       "      <td>11</td>\n",
       "      <td>1</td>\n",
       "      <td>2014-03-10</td>\n",
       "      <td>PT37M54S</td>\n",
       "      <td>D</td>\n",
       "    </tr>\n",
       "    <tr>\n",
       "      <th>3</th>\n",
       "      <td>VID_19442</td>\n",
       "      <td>1316715</td>\n",
       "      <td>2284</td>\n",
       "      <td>250</td>\n",
       "      <td>274</td>\n",
       "      <td>2010-06-05</td>\n",
       "      <td>PT9M55S</td>\n",
       "      <td>G</td>\n",
       "    </tr>\n",
       "    <tr>\n",
       "      <th>4</th>\n",
       "      <td>VID_770</td>\n",
       "      <td>1893173</td>\n",
       "      <td>2519</td>\n",
       "      <td>225</td>\n",
       "      <td>116</td>\n",
       "      <td>2016-09-03</td>\n",
       "      <td>PT3M8S</td>\n",
       "      <td>B</td>\n",
       "    </tr>\n",
       "  </tbody>\n",
       "</table>\n",
       "</div>"
      ],
      "text/plain": [
       "       vidid    views likes dislikes comment   published  duration category\n",
       "0   VID_1054   440238  6153      218    1377  2017-02-18   PT7M29S        B\n",
       "1  VID_18629  1040132  8171      340    1047  2016-06-28   PT6M29S        F\n",
       "2  VID_13967    28534    31       11       1  2014-03-10  PT37M54S        D\n",
       "3  VID_19442  1316715  2284      250     274  2010-06-05   PT9M55S        G\n",
       "4    VID_770  1893173  2519      225     116  2016-09-03    PT3M8S        B"
      ]
     },
     "execution_count": 62,
     "metadata": {},
     "output_type": "execute_result"
    }
   ],
   "source": [
    "data_test.head()"
   ]
  },
  {
   "cell_type": "markdown",
   "id": "afb53277-6939-4729-8e45-87c9001cc8b9",
   "metadata": {},
   "source": [
    "* #### **Assigning each category a Number**"
   ]
  },
  {
   "cell_type": "code",
   "execution_count": 63,
   "id": "440a5b24-c784-4d4c-b42d-69e705475eba",
   "metadata": {},
   "outputs": [
    {
     "data": {
      "text/html": [
       "<div>\n",
       "<style scoped>\n",
       "    .dataframe tbody tr th:only-of-type {\n",
       "        vertical-align: middle;\n",
       "    }\n",
       "\n",
       "    .dataframe tbody tr th {\n",
       "        vertical-align: top;\n",
       "    }\n",
       "\n",
       "    .dataframe thead th {\n",
       "        text-align: right;\n",
       "    }\n",
       "</style>\n",
       "<table border=\"1\" class=\"dataframe\">\n",
       "  <thead>\n",
       "    <tr style=\"text-align: right;\">\n",
       "      <th></th>\n",
       "      <th>vidid</th>\n",
       "      <th>views</th>\n",
       "      <th>likes</th>\n",
       "      <th>dislikes</th>\n",
       "      <th>comment</th>\n",
       "      <th>published</th>\n",
       "      <th>duration</th>\n",
       "      <th>category</th>\n",
       "    </tr>\n",
       "  </thead>\n",
       "  <tbody>\n",
       "    <tr>\n",
       "      <th>0</th>\n",
       "      <td>VID_1054</td>\n",
       "      <td>440238</td>\n",
       "      <td>6153</td>\n",
       "      <td>218</td>\n",
       "      <td>1377</td>\n",
       "      <td>2017-02-18</td>\n",
       "      <td>PT7M29S</td>\n",
       "      <td>2</td>\n",
       "    </tr>\n",
       "    <tr>\n",
       "      <th>1</th>\n",
       "      <td>VID_18629</td>\n",
       "      <td>1040132</td>\n",
       "      <td>8171</td>\n",
       "      <td>340</td>\n",
       "      <td>1047</td>\n",
       "      <td>2016-06-28</td>\n",
       "      <td>PT6M29S</td>\n",
       "      <td>6</td>\n",
       "    </tr>\n",
       "    <tr>\n",
       "      <th>2</th>\n",
       "      <td>VID_13967</td>\n",
       "      <td>28534</td>\n",
       "      <td>31</td>\n",
       "      <td>11</td>\n",
       "      <td>1</td>\n",
       "      <td>2014-03-10</td>\n",
       "      <td>PT37M54S</td>\n",
       "      <td>4</td>\n",
       "    </tr>\n",
       "    <tr>\n",
       "      <th>3</th>\n",
       "      <td>VID_19442</td>\n",
       "      <td>1316715</td>\n",
       "      <td>2284</td>\n",
       "      <td>250</td>\n",
       "      <td>274</td>\n",
       "      <td>2010-06-05</td>\n",
       "      <td>PT9M55S</td>\n",
       "      <td>7</td>\n",
       "    </tr>\n",
       "    <tr>\n",
       "      <th>4</th>\n",
       "      <td>VID_770</td>\n",
       "      <td>1893173</td>\n",
       "      <td>2519</td>\n",
       "      <td>225</td>\n",
       "      <td>116</td>\n",
       "      <td>2016-09-03</td>\n",
       "      <td>PT3M8S</td>\n",
       "      <td>2</td>\n",
       "    </tr>\n",
       "  </tbody>\n",
       "</table>\n",
       "</div>"
      ],
      "text/plain": [
       "       vidid    views likes dislikes comment   published  duration  category\n",
       "0   VID_1054   440238  6153      218    1377  2017-02-18   PT7M29S         2\n",
       "1  VID_18629  1040132  8171      340    1047  2016-06-28   PT6M29S         6\n",
       "2  VID_13967    28534    31       11       1  2014-03-10  PT37M54S         4\n",
       "3  VID_19442  1316715  2284      250     274  2010-06-05   PT9M55S         7\n",
       "4    VID_770  1893173  2519      225     116  2016-09-03    PT3M8S         2"
      ]
     },
     "execution_count": 63,
     "metadata": {},
     "output_type": "execute_result"
    }
   ],
   "source": [
    "category={'A': 1,'B':2,'C':3,'D':4,'E':5,'F':6,'G':7,'H':8}\n",
    "data_test[\"category\"]=data_test[\"category\"].map(category)\n",
    "data_test.head()"
   ]
  },
  {
   "cell_type": "markdown",
   "id": "98ca9b1c-6ece-4a07-b54b-8fad074a4003",
   "metadata": {},
   "source": [
    "* #### **Convert values to integers**"
   ]
  },
  {
   "cell_type": "code",
   "execution_count": 64,
   "id": "7a4d9cd8-ad74-4b28-80d4-479a868b7e31",
   "metadata": {},
   "outputs": [],
   "source": [
    "data_test[\"views\"] = pd.to_numeric(data_test[\"views\"])\n",
    "data_test[\"comment\"] = pd.to_numeric(data_test[\"comment\"])\n",
    "data_test[\"likes\"] = pd.to_numeric(data_test[\"likes\"])\n",
    "data_test[\"dislikes\"] = pd.to_numeric(data_test[\"dislikes\"])\n",
    "column_vidid=data_test['vidid']"
   ]
  },
  {
   "cell_type": "markdown",
   "id": "d7c514b5-8d6a-4002-bfa2-5d32630238eb",
   "metadata": {},
   "source": [
    "* #### **Endoding features like Category, Duration, Vidid**"
   ]
  },
  {
   "cell_type": "code",
   "execution_count": 65,
   "id": "39de0e02-c048-422e-8e92-7ba86dcd3fce",
   "metadata": {},
   "outputs": [
    {
     "data": {
      "text/html": [
       "<div>\n",
       "<style scoped>\n",
       "    .dataframe tbody tr th:only-of-type {\n",
       "        vertical-align: middle;\n",
       "    }\n",
       "\n",
       "    .dataframe tbody tr th {\n",
       "        vertical-align: top;\n",
       "    }\n",
       "\n",
       "    .dataframe thead th {\n",
       "        text-align: right;\n",
       "    }\n",
       "</style>\n",
       "<table border=\"1\" class=\"dataframe\">\n",
       "  <thead>\n",
       "    <tr style=\"text-align: right;\">\n",
       "      <th></th>\n",
       "      <th>vidid</th>\n",
       "      <th>views</th>\n",
       "      <th>likes</th>\n",
       "      <th>dislikes</th>\n",
       "      <th>comment</th>\n",
       "      <th>published</th>\n",
       "      <th>duration</th>\n",
       "      <th>category</th>\n",
       "    </tr>\n",
       "  </thead>\n",
       "  <tbody>\n",
       "    <tr>\n",
       "      <th>0</th>\n",
       "      <td>231</td>\n",
       "      <td>440238</td>\n",
       "      <td>6153</td>\n",
       "      <td>218</td>\n",
       "      <td>1377</td>\n",
       "      <td>2053</td>\n",
       "      <td>2115</td>\n",
       "      <td>2</td>\n",
       "    </tr>\n",
       "    <tr>\n",
       "      <th>1</th>\n",
       "      <td>3444</td>\n",
       "      <td>1040132</td>\n",
       "      <td>8171</td>\n",
       "      <td>340</td>\n",
       "      <td>1047</td>\n",
       "      <td>1825</td>\n",
       "      <td>2055</td>\n",
       "      <td>6</td>\n",
       "    </tr>\n",
       "    <tr>\n",
       "      <th>2</th>\n",
       "      <td>1593</td>\n",
       "      <td>28534</td>\n",
       "      <td>31</td>\n",
       "      <td>11</td>\n",
       "      <td>1</td>\n",
       "      <td>1009</td>\n",
       "      <td>1506</td>\n",
       "      <td>4</td>\n",
       "    </tr>\n",
       "    <tr>\n",
       "      <th>3</th>\n",
       "      <td>3775</td>\n",
       "      <td>1316715</td>\n",
       "      <td>2284</td>\n",
       "      <td>250</td>\n",
       "      <td>274</td>\n",
       "      <td>116</td>\n",
       "      <td>2265</td>\n",
       "      <td>7</td>\n",
       "    </tr>\n",
       "    <tr>\n",
       "      <th>4</th>\n",
       "      <td>7644</td>\n",
       "      <td>1893173</td>\n",
       "      <td>2519</td>\n",
       "      <td>225</td>\n",
       "      <td>116</td>\n",
       "      <td>1892</td>\n",
       "      <td>1625</td>\n",
       "      <td>2</td>\n",
       "    </tr>\n",
       "  </tbody>\n",
       "</table>\n",
       "</div>"
      ],
      "text/plain": [
       "   vidid    views  likes  dislikes  comment  published  duration  category\n",
       "0    231   440238   6153       218     1377       2053      2115         2\n",
       "1   3444  1040132   8171       340     1047       1825      2055         6\n",
       "2   1593    28534     31        11        1       1009      1506         4\n",
       "3   3775  1316715   2284       250      274        116      2265         7\n",
       "4   7644  1893173   2519       225      116       1892      1625         2"
      ]
     },
     "execution_count": 65,
     "metadata": {},
     "output_type": "execute_result"
    }
   ],
   "source": [
    "from sklearn.preprocessing import LabelEncoder\n",
    "data_test['duration']=LabelEncoder().fit_transform(data_test['duration'])\n",
    "data_test['vidid']=LabelEncoder().fit_transform(data_test['vidid'])\n",
    "data_test['published']=LabelEncoder().fit_transform(data_test['published'])\n",
    "data_test.head()"
   ]
  },
  {
   "cell_type": "markdown",
   "id": "f8a29ed3-4377-4435-b018-fb49d475495c",
   "metadata": {},
   "source": [
    "* #### **Convert Time_in_sec for duration**"
   ]
  },
  {
   "cell_type": "code",
   "execution_count": 67,
   "id": "b0f9a6d2-e69f-4b37-bad1-901e40a5351b",
   "metadata": {},
   "outputs": [
    {
     "data": {
      "text/html": [
       "<div>\n",
       "<style scoped>\n",
       "    .dataframe tbody tr th:only-of-type {\n",
       "        vertical-align: middle;\n",
       "    }\n",
       "\n",
       "    .dataframe tbody tr th {\n",
       "        vertical-align: top;\n",
       "    }\n",
       "\n",
       "    .dataframe thead th {\n",
       "        text-align: right;\n",
       "    }\n",
       "</style>\n",
       "<table border=\"1\" class=\"dataframe\">\n",
       "  <thead>\n",
       "    <tr style=\"text-align: right;\">\n",
       "      <th></th>\n",
       "      <th>vidid</th>\n",
       "      <th>views</th>\n",
       "      <th>likes</th>\n",
       "      <th>dislikes</th>\n",
       "      <th>comment</th>\n",
       "      <th>published</th>\n",
       "      <th>duration</th>\n",
       "      <th>category</th>\n",
       "    </tr>\n",
       "  </thead>\n",
       "  <tbody>\n",
       "    <tr>\n",
       "      <th>0</th>\n",
       "      <td>231</td>\n",
       "      <td>440238</td>\n",
       "      <td>6153</td>\n",
       "      <td>218</td>\n",
       "      <td>1377</td>\n",
       "      <td>2053</td>\n",
       "      <td>449</td>\n",
       "      <td>2</td>\n",
       "    </tr>\n",
       "    <tr>\n",
       "      <th>1</th>\n",
       "      <td>3444</td>\n",
       "      <td>1040132</td>\n",
       "      <td>8171</td>\n",
       "      <td>340</td>\n",
       "      <td>1047</td>\n",
       "      <td>1825</td>\n",
       "      <td>389</td>\n",
       "      <td>6</td>\n",
       "    </tr>\n",
       "    <tr>\n",
       "      <th>2</th>\n",
       "      <td>1593</td>\n",
       "      <td>28534</td>\n",
       "      <td>31</td>\n",
       "      <td>11</td>\n",
       "      <td>1</td>\n",
       "      <td>1009</td>\n",
       "      <td>2274</td>\n",
       "      <td>4</td>\n",
       "    </tr>\n",
       "    <tr>\n",
       "      <th>3</th>\n",
       "      <td>3775</td>\n",
       "      <td>1316715</td>\n",
       "      <td>2284</td>\n",
       "      <td>250</td>\n",
       "      <td>274</td>\n",
       "      <td>116</td>\n",
       "      <td>595</td>\n",
       "      <td>7</td>\n",
       "    </tr>\n",
       "    <tr>\n",
       "      <th>4</th>\n",
       "      <td>7644</td>\n",
       "      <td>1893173</td>\n",
       "      <td>2519</td>\n",
       "      <td>225</td>\n",
       "      <td>116</td>\n",
       "      <td>1892</td>\n",
       "      <td>188</td>\n",
       "      <td>2</td>\n",
       "    </tr>\n",
       "  </tbody>\n",
       "</table>\n",
       "</div>"
      ],
      "text/plain": [
       "   vidid    views  likes  dislikes  comment  published  duration  category\n",
       "0    231   440238   6153       218     1377       2053       449         2\n",
       "1   3444  1040132   8171       340     1047       1825       389         6\n",
       "2   1593    28534     31        11        1       1009      2274         4\n",
       "3   3775  1316715   2284       250      274        116       595         7\n",
       "4   7644  1893173   2519       225      116       1892       188         2"
      ]
     },
     "execution_count": 67,
     "metadata": {},
     "output_type": "execute_result"
    }
   ],
   "source": [
    "import datetime\n",
    "import time\n",
    "def checki(x):\n",
    "  y = x[2:]\n",
    "  h = ''\n",
    "  m = ''\n",
    "  s = ''\n",
    "  mm = ''\n",
    "  P = ['H','M','S']\n",
    "  for i in y:\n",
    "    if i not in P:\n",
    "      mm+=i\n",
    "    else:\n",
    "      if(i==\"H\"):\n",
    "        h = mm\n",
    "        mm = ''\n",
    "      elif(i == \"M\"):\n",
    "        m = mm\n",
    "        mm = ''\n",
    "      else:\n",
    "        s = mm\n",
    "        mm = ''\n",
    "  if(h==''):\n",
    "    h = '00'\n",
    "  if(m == ''):\n",
    "    m = '00'\n",
    "  if(s==''):\n",
    "    s='00'\n",
    "  bp = h+':'+m+':'+s\n",
    "  return bp\n",
    "\n",
    "train=pd.read_csv(\"test.csv\")\n",
    "mp = pd.read_csv('test.csv')[\"duration\"]\n",
    "time = mp.apply(checki)\n",
    "\n",
    "def func_sec(time_string):\n",
    "  h, m, s = time_string.split(':')\n",
    "  return int(h) * 3600 + int(m) * 60 + int(s)\n",
    "\n",
    "time1=time.apply(func_sec)\n",
    "\n",
    "data_test[\"duration\"]=time1\n",
    "data_test.head()"
   ]
  },
  {
   "cell_type": "code",
   "execution_count": 68,
   "id": "a203da30-b101-457c-a66f-827d83d7d5b9",
   "metadata": {},
   "outputs": [
    {
     "data": {
      "text/html": [
       "<div>\n",
       "<style scoped>\n",
       "    .dataframe tbody tr th:only-of-type {\n",
       "        vertical-align: middle;\n",
       "    }\n",
       "\n",
       "    .dataframe tbody tr th {\n",
       "        vertical-align: top;\n",
       "    }\n",
       "\n",
       "    .dataframe thead th {\n",
       "        text-align: right;\n",
       "    }\n",
       "</style>\n",
       "<table border=\"1\" class=\"dataframe\">\n",
       "  <thead>\n",
       "    <tr style=\"text-align: right;\">\n",
       "      <th></th>\n",
       "      <th>views</th>\n",
       "      <th>likes</th>\n",
       "      <th>dislikes</th>\n",
       "      <th>comment</th>\n",
       "      <th>published</th>\n",
       "      <th>duration</th>\n",
       "      <th>category</th>\n",
       "    </tr>\n",
       "  </thead>\n",
       "  <tbody>\n",
       "    <tr>\n",
       "      <th>0</th>\n",
       "      <td>440238</td>\n",
       "      <td>6153</td>\n",
       "      <td>218</td>\n",
       "      <td>1377</td>\n",
       "      <td>2053</td>\n",
       "      <td>449</td>\n",
       "      <td>2</td>\n",
       "    </tr>\n",
       "    <tr>\n",
       "      <th>1</th>\n",
       "      <td>1040132</td>\n",
       "      <td>8171</td>\n",
       "      <td>340</td>\n",
       "      <td>1047</td>\n",
       "      <td>1825</td>\n",
       "      <td>389</td>\n",
       "      <td>6</td>\n",
       "    </tr>\n",
       "    <tr>\n",
       "      <th>2</th>\n",
       "      <td>28534</td>\n",
       "      <td>31</td>\n",
       "      <td>11</td>\n",
       "      <td>1</td>\n",
       "      <td>1009</td>\n",
       "      <td>2274</td>\n",
       "      <td>4</td>\n",
       "    </tr>\n",
       "    <tr>\n",
       "      <th>3</th>\n",
       "      <td>1316715</td>\n",
       "      <td>2284</td>\n",
       "      <td>250</td>\n",
       "      <td>274</td>\n",
       "      <td>116</td>\n",
       "      <td>595</td>\n",
       "      <td>7</td>\n",
       "    </tr>\n",
       "    <tr>\n",
       "      <th>4</th>\n",
       "      <td>1893173</td>\n",
       "      <td>2519</td>\n",
       "      <td>225</td>\n",
       "      <td>116</td>\n",
       "      <td>1892</td>\n",
       "      <td>188</td>\n",
       "      <td>2</td>\n",
       "    </tr>\n",
       "  </tbody>\n",
       "</table>\n",
       "</div>"
      ],
      "text/plain": [
       "     views  likes  dislikes  comment  published  duration  category\n",
       "0   440238   6153       218     1377       2053       449         2\n",
       "1  1040132   8171       340     1047       1825       389         6\n",
       "2    28534     31        11        1       1009      2274         4\n",
       "3  1316715   2284       250      274        116       595         7\n",
       "4  1893173   2519       225      116       1892       188         2"
      ]
     },
     "execution_count": 68,
     "metadata": {},
     "output_type": "execute_result"
    }
   ],
   "source": [
    "data_test=data_test.drop([\"vidid\"],axis=1)\n",
    "data_test.head()"
   ]
  },
  {
   "cell_type": "code",
   "execution_count": 69,
   "id": "b7160b1a-486f-4e6b-90aa-d5dbf6706a0b",
   "metadata": {},
   "outputs": [],
   "source": [
    "from sklearn.preprocessing import MinMaxScaler\n",
    "scaler = MinMaxScaler()\n",
    "X_test = data_test\n",
    "X_test=scaler.fit_transform(X_test)"
   ]
  },
  {
   "cell_type": "code",
   "execution_count": 70,
   "id": "89dcf162-96b1-4160-92c6-ac18f7d45354",
   "metadata": {},
   "outputs": [
    {
     "name": "stdout",
     "output_type": "stream",
     "text": [
      "268/268 [==============================] - 0s 1ms/step\n"
     ]
    }
   ],
   "source": [
    "prediction = model.predict(X_test)"
   ]
  },
  {
   "cell_type": "code",
   "execution_count": 71,
   "id": "6ed1416a-1d24-415f-b9f3-40c323741572",
   "metadata": {},
   "outputs": [
    {
     "name": "stdout",
     "output_type": "stream",
     "text": [
      "<class 'pandas.core.frame.DataFrame'>\n",
      "RangeIndex: 8549 entries, 0 to 8548\n",
      "Data columns (total 1 columns):\n",
      " #   Column  Non-Null Count  Dtype  \n",
      "---  ------  --------------  -----  \n",
      " 0   0       8549 non-null   float32\n",
      "dtypes: float32(1)\n",
      "memory usage: 33.5 KB\n"
     ]
    }
   ],
   "source": [
    "prediction=pd.DataFrame(prediction)\n",
    "prediction.info()"
   ]
  },
  {
   "cell_type": "code",
   "execution_count": 72,
   "id": "6de90088-e1ba-40f8-b484-8e19844746e7",
   "metadata": {},
   "outputs": [],
   "source": [
    "prediction = prediction.rename(columns={0: \"Adview\"})"
   ]
  },
  {
   "cell_type": "code",
   "execution_count": 73,
   "id": "a696b578-26bc-4d81-a7e4-26d6e8896c95",
   "metadata": {},
   "outputs": [
    {
     "data": {
      "text/html": [
       "<div>\n",
       "<style scoped>\n",
       "    .dataframe tbody tr th:only-of-type {\n",
       "        vertical-align: middle;\n",
       "    }\n",
       "\n",
       "    .dataframe tbody tr th {\n",
       "        vertical-align: top;\n",
       "    }\n",
       "\n",
       "    .dataframe thead th {\n",
       "        text-align: right;\n",
       "    }\n",
       "</style>\n",
       "<table border=\"1\" class=\"dataframe\">\n",
       "  <thead>\n",
       "    <tr style=\"text-align: right;\">\n",
       "      <th></th>\n",
       "      <th>Adview</th>\n",
       "    </tr>\n",
       "  </thead>\n",
       "  <tbody>\n",
       "    <tr>\n",
       "      <th>0</th>\n",
       "      <td>2423.437012</td>\n",
       "    </tr>\n",
       "    <tr>\n",
       "      <th>1</th>\n",
       "      <td>2484.617188</td>\n",
       "    </tr>\n",
       "    <tr>\n",
       "      <th>2</th>\n",
       "      <td>1007.016724</td>\n",
       "    </tr>\n",
       "    <tr>\n",
       "      <th>3</th>\n",
       "      <td>710.466492</td>\n",
       "    </tr>\n",
       "    <tr>\n",
       "      <th>4</th>\n",
       "      <td>2306.878906</td>\n",
       "    </tr>\n",
       "  </tbody>\n",
       "</table>\n",
       "</div>"
      ],
      "text/plain": [
       "        Adview\n",
       "0  2423.437012\n",
       "1  2484.617188\n",
       "2  1007.016724\n",
       "3   710.466492\n",
       "4  2306.878906"
      ]
     },
     "execution_count": 73,
     "metadata": {},
     "output_type": "execute_result"
    }
   ],
   "source": [
    "prediction.head()"
   ]
  },
  {
   "cell_type": "code",
   "execution_count": 74,
   "id": "11d737e3-6e48-4649-b952-c7ac420a1aa2",
   "metadata": {},
   "outputs": [],
   "source": [
    "prediction.to_csv('predictions.csv')"
   ]
  }
 ],
 "metadata": {
  "kernelspec": {
   "display_name": "Python 3 (ipykernel)",
   "language": "python",
   "name": "python3"
  },
  "language_info": {
   "codemirror_mode": {
    "name": "ipython",
    "version": 3
   },
   "file_extension": ".py",
   "mimetype": "text/x-python",
   "name": "python",
   "nbconvert_exporter": "python",
   "pygments_lexer": "ipython3",
   "version": "3.11.2"
  }
 },
 "nbformat": 4,
 "nbformat_minor": 5
}
